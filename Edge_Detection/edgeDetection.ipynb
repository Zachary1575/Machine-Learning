{
 "cells": [
  {
   "cell_type": "markdown",
   "metadata": {
    "papermill": {
     "duration": 0.016303,
     "end_time": "2020-11-05T04:18:29.721465",
     "exception": false,
     "start_time": "2020-11-05T04:18:29.705162",
     "status": "completed"
    },
    "tags": []
   },
   "source": [
    "# Edge Detection in Microscopic Cells"
   ]
  },
  {
   "cell_type": "code",
   "execution_count": 1,
   "metadata": {},
   "outputs": [],
   "source": [
    "import numpy as np\n",
    "import cv2 as cv\n",
    "from matplotlib import pyplot as plt\n",
    "\n",
    "# Read the image\n",
    "from skimage import io "
   ]
  },
  {
   "cell_type": "code",
   "execution_count": 20,
   "metadata": {},
   "outputs": [
    {
     "name": "stdout",
     "output_type": "stream",
     "text": [
      "shape of the image: (318, 458, 4)\n",
      "there are 145644 pixels in the image.\n",
      "First 10 pixels of the image: [[102 102 102 255]\n",
      " [102 102 102 255]\n",
      " [102 102 102 255]\n",
      " [ 98  98  98 255]\n",
      " [ 90  89  89 255]\n",
      " [ 90  89  90 255]\n",
      " [ 97  98  98 255]\n",
      " [102 102 102 255]\n",
      " [102 102 102 255]\n",
      " [ 97  98  98 255]]\n",
      "Image shape:  (264, 272)\n",
      "First 10 pixels of the Normal image: [255 255 255 255 255 255 255 255 255 255]\n",
      "Kernel Size of Normal: \n",
      "First 5 pixels of 1st row the Guassian image: [255 255 255 255 255]\n",
      "First 5 pixels of 2nd row the Guassian image: [255 255 255 255 255]\n",
      "First 5 pixels of 3rd row the Guassian image: [255 255 255 255 255]\n",
      "First 5 pixels of 4th row the Guassian image: [255 255 255 255 255]\n",
      "First 5 pixels of 5th row the Guassian image: [255 255 255 255 255]\n",
      "Gaussian shape:  (264, 272)\n",
      "Kernel Size of Gaussian: \n",
      "First 5 pixels of 1st row the Guassian image: [255 255 255 255 255]\n",
      "First 5 pixels of 2nd row the Guassian image: [255 255 255 255 255]\n",
      "First 5 pixels of 3rd row the Guassian image: [255 255 255 255 255]\n",
      "First 5 pixels of 4th row the Guassian image: [255 255 255 255 255]\n",
      "First 5 pixels of 5th row the Guassian image: [255 255 255 255 255]\n"
     ]
    }
   ],
   "source": [
    "# Read from skimage\n",
    "# Reads with color\n",
    "raw_img = io.imread(\"test_1.png\");\n",
    "print(\"shape of the image:\", raw_img.shape)  ### width, height, and num_channels (e.g., RBG) of the image\n",
    "print(f\"there are {np.prod(raw_img.shape[:-1])} pixels in the image.\") \n",
    "print(\"First 10 pixels of the image: \" + str(raw_img[0][:10])); # (R,G,B, Transperency for each pixel)\n",
    "\n",
    "# Image using CV\n",
    "# cv doesn't use color, seems to maybe average or take the first value\n",
    "img = cv.imread(\"test_3.png\", 0);\n",
    "\n",
    "# Guassian Filtering\n",
    "dst = cv.GaussianBlur(img,(3,3),0)\n",
    "\n",
    "# Sobel Derivative Filtering with Gaussian\n",
    "sobelGaussx = cv.Sobel(src=dst, ddepth=cv.CV_16S, dx=1, dy=0, ksize=5) # Sobel Edge Detection on the X axis\n",
    "sobelGaussy = cv.Sobel(src=dst, ddepth=cv.CV_16S, dx=0, dy=1, ksize=5) # Sobel Edge Detection on the Y axis\n",
    "sobelGaussxy = cv.Sobel(src=dst, ddepth=cv.CV_16S, dx=1, dy=1, ksize=5) # Combined X and Y Sobel Edge Detection\n",
    "\n",
    "# Sobel Derivative Filtering without Gaussian\n",
    "sobelx = cv.Sobel(src=img, ddepth=cv.CV_16S, dx=1, dy=0, ksize=5) # Sobel Edge Detection on the X axis\n",
    "sobely = cv.Sobel(src=img, ddepth=cv.CV_16S, dx=0, dy=1, ksize=5) # Sobel Edge Detection on the Y axis\n",
    "sobelxy = cv.Sobel(src=img, ddepth=cv.CV_16S, dx=1, dy=1, ksize=5) # Combined X and Y Sobel Edge Detection\n",
    "\n",
    "print(\"Image shape: \",img.shape)\n",
    "print(\"First 10 pixels of the Normal image: \" + str(img[0][:10])); \n",
    "print(\"Kernel Size of Normal: \")\n",
    "print(\"First 5 pixels of 1st row the Guassian image: \" + str(img[0][:5])); \n",
    "print(\"First 5 pixels of 2nd row the Guassian image: \" + str(img[1][:5])); \n",
    "print(\"First 5 pixels of 3rd row the Guassian image: \" + str(img[2][:5])); \n",
    "print(\"First 5 pixels of 4th row the Guassian image: \" + str(img[3][:5])); \n",
    "print(\"First 5 pixels of 5th row the Guassian image: \" + str(img[4][:5])); \n",
    "print(\"Gaussian shape: \", dst.shape)\n",
    "print(\"Kernel Size of Gaussian: \")\n",
    "print(\"First 5 pixels of 1st row the Guassian image: \" + str(dst[0][:5])); \n",
    "print(\"First 5 pixels of 2nd row the Guassian image: \" + str(dst[1][:5])); \n",
    "print(\"First 5 pixels of 3rd row the Guassian image: \" + str(dst[2][:5])); \n",
    "print(\"First 5 pixels of 4th row the Guassian image: \" + str(dst[3][:5])); \n",
    "print(\"First 5 pixels of 5th row the Guassian image: \" + str(dst[4][:5])); \n",
    "\n",
    "# Using Canny Edge Detection Filter\n",
    "edges = cv.Canny(img, 100, 200);"
   ]
  },
  {
   "cell_type": "code",
   "execution_count": 25,
   "metadata": {},
   "outputs": [
    {
     "data": {
      "text/plain": [
       "(Text(0.5, 1.0, 'Sobel Imaging without Gaussing y'), ([], []), ([], []))"
      ]
     },
     "execution_count": 25,
     "metadata": {},
     "output_type": "execute_result"
    },
    {
     "data": {
      "image/png": "[encoded data removed]",
      "text/plain": [
       "<Figure size 432x288 with 2 Axes>"
      ]
     },
     "metadata": {},
     "output_type": "display_data"
    }
   ],
   "source": [
    "plt.subplot(121), plt.imshow(img, cmap = 'gray')\n",
    "plt.title(\"Original Image\"), plt.xticks([]),plt.yticks([])\n",
    "\n",
    "# plt.subplot(122), plt.imshow(sobelGaussxy, cmap = 'gray')\n",
    "# plt.title('Sobel Imaging xy'), plt.xticks([]), plt.yticks([])\n",
    "\n",
    "# plt.subplot(122), plt.imshow(sobelGaussxy, cmap = 'gray')\n",
    "# plt.title('Sobel Imaging Without Gauss xy'), plt.xticks([]), plt.yticks([])\n",
    "\n",
    "# Note, for some reason, Sobel does better when we just look for the y-derivative...\n",
    "\n",
    "# plt.subplot(121), plt.imshow(sobelGaussx, cmap = 'gray')\n",
    "# plt.title('Sobel Imaging x'), plt.xticks([]), plt.yticks([])\n",
    "\n",
    "# plt.subplot(122), plt.imshow(sobelGaussy, cmap = 'gray')\n",
    "# plt.title('Sobel Imaging y'), plt.xticks([]), plt.yticks([])\n",
    "\n",
    "plt.subplot(121), plt.imshow(sobelx, cmap = 'gray')\n",
    "plt.title('Sobel Imaging without Gaussing x'), plt.xticks([]), plt.yticks([])\n",
    "\n",
    "plt.subplot(122), plt.imshow(sobely, cmap = 'gray')\n",
    "plt.title('Sobel Imaging without Gaussing y'), plt.xticks([]), plt.yticks([])\n",
    "\n",
    "# plt.subplot(122), plt.imshow(edges, cmap = 'gray')\n",
    "# plt.title('Edge Image'), plt.xticks([]), plt.yticks([])\n",
    "\n",
    "# plt.subplot(122), plt.imshow(dst, cmap = 'gray')\n",
    "# plt.title('Guassian Filter'), plt.xticks([]), plt.yticks([])"
   ]
  },
  {
   "cell_type": "code",
   "execution_count": 15,
   "metadata": {},
   "outputs": [],
   "source": [
    "plt.show();"
   ]
  },
  {
   "cell_type": "code",
   "execution_count": 195,
   "metadata": {},
   "outputs": [
    {
     "name": "stdout",
     "output_type": "stream",
     "text": [
      "SD of matrix:  21.07723890835799\n",
      "Mean of matrix:  13.5\n",
      "<class 'numpy.ndarray'>\n",
      "[[14. 14.]\n",
      " [14. 14.]]\n"
     ]
    }
   ],
   "source": [
    "# Quick Gaussian blur experiment\n",
    "# Suppose a matrix that is all ones by 5 x 5, 2D array\n",
    "# Guassian_Test = [\n",
    "#     [1,1,1,1,1],\n",
    "#     [1,1,1,1,1],\n",
    "#     [1,1,1,1,1],\n",
    "#     [1,1,50,1,1],\n",
    "#     [1,1,1,1,1]\n",
    "# ];\n",
    "\n",
    "Gaussian_Test = [\n",
    "    [50,1],\n",
    "    [1,2]\n",
    "];\n",
    "\n",
    "# SD and Mean\n",
    "arr = np.array(Gaussian_Test);\n",
    "print(\"SD of matrix: \", str(arr.std()));\n",
    "print(\"Mean of matrix: \", str(arr.mean()));\n",
    "\n",
    "# Conversion to UMat\n",
    "src = cv.UMat(np.array(Guassian_Test, dtype=np.uint8))\n",
    "\n",
    "# Guassian Filtering\n",
    "test = cv.GaussianBlur(src,(3,3),0)\n",
    "\n",
    "# Output reading\n",
    "output = test.get().astype('f');\n",
    "print(type(output));\n",
    "print(output);\n",
    "# print(\"Gaussian shape: \", test.shape)\n",
    "# print(\"Kernel Size of Gaussian: \")\n",
    "# print(\"First 5 pixels of 1st row the Guassian image: \" + str(test[0][:5])); \n",
    "# print(\"First 5 pixels of 2nd row the Guassian image: \" + str(test[1][:5])); \n",
    "# print(\"First 5 pixels of 3rd row the Guassian image: \" + str(test[2][:5])); \n",
    "# print(\"First 5 pixels of 4th row the Guassian image: \" + str(test[3][:5])); \n",
    "# print(\"First 5 pixels of 5th row the Guassian image: \" + str(test[4][:5])); "
   ]
  },
  {
   "cell_type": "markdown",
   "metadata": {},
   "source": [
    "# USING HED (Holistically-Nested Edge Detection)"
   ]
  },
  {
   "cell_type": "code",
   "execution_count": 199,
   "metadata": {},
   "outputs": [
    {
     "data": {
      "text/plain": [
       "45"
      ]
     },
     "execution_count": 199,
     "metadata": {},
     "output_type": "execute_result"
    }
   ],
   "source": [
    "import cv2\n",
    "\n",
    "# Image using CV\n",
    "img = cv2.imread(\"test_1.png\");\n",
    "\n",
    "(H, W) = img.shape[:2]\n",
    "blob = cv2.dnn.blobFromImage(img, scalefactor=1.0, size=(W, H), swapRB=False, crop=False)\n",
    "net = cv2.dnn.readNetFromCaffe(\"./hed/deploy.prototxt\", \"./hed/hed_pretrained_bsds.caffemodel\")\n",
    "net.setInput(blob)\n",
    "hed = net.forward()\n",
    "hed = cv2.resize(hed[0, 0], (W, H))\n",
    "hed = (255 * hed).astype(\"uint8\")\n",
    "cv2.imshow(\"Input\", img)\n",
    "cv2.imshow(\"HED\", hed)\n",
    "cv2.waitKey(0)"
   ]
  },
  {
   "cell_type": "markdown",
   "metadata": {},
   "source": [
    "# Corner Detection Using Harris"
   ]
  },
  {
   "cell_type": "code",
   "execution_count": null,
   "metadata": {},
   "outputs": [],
   "source": [
    "import numpy as np\n",
    "import cv2 as cv\n",
    "filename = \"test_4.png\"\n",
    "img = cv.imread(filename)\n",
    "gray = cv.cvtColor(img,cv.COLOR_BGR2GRAY)\n",
    "gray = np.float32(gray)\n",
    "dst = cv.cornerHarris(gray,2,3,0.04)\n",
    "#result is dilated for marking the corners, not important\n",
    "dst = cv.dilate(dst,None)\n",
    "# Threshold for an optimal value, it may vary depending on the image.\n",
    "img[dst>0.01*dst.max()]=[0,0,255]\n",
    "cv.imshow('dst',img)\n",
    "if cv.waitKey(0) & 0xff == 27:\n",
    "    cv.destroyAllWindows()"
   ]
  },
  {
   "cell_type": "code",
   "execution_count": null,
   "metadata": {},
   "outputs": [],
   "source": []
  }
 ],
 "metadata": {
  "kernelspec": {
   "display_name": "Python 3 (ipykernel)",
   "language": "python",
   "name": "python3"
  },
  "language_info": {
   "codemirror_mode": {
    "name": "ipython",
    "version": 3
   },
   "file_extension": ".py",
   "mimetype": "text/x-python",
   "name": "python",
   "nbconvert_exporter": "python",
   "pygments_lexer": "ipython3",
   "version": "3.9.12"
  },
  "papermill": {
   "duration": 14.322164,
   "end_time": "2020-11-05T04:18:38.875795",
   "environment_variables": {},
   "exception": null,
   "input_path": "__notebook__.ipynb",
   "output_path": "__notebook__.ipynb",
   "parameters": {},
   "start_time": "2020-11-05T04:18:24.553631",
   "version": "2.1.0"
  }
 },
 "nbformat": 4,
 "nbformat_minor": 4
}
